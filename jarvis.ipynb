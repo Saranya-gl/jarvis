{
 "cells": [
  {
   "cell_type": "code",
   "execution_count": 1,
   "id": "779c56f9",
   "metadata": {},
   "outputs": [
    {
     "name": "stdout",
     "output_type": "stream",
     "text": [
      "Collecting pyaudio\n",
      "  Downloading PyAudio-0.2.14-cp39-cp39-win_amd64.whl (164 kB)\n",
      "Installing collected packages: pyaudio\n",
      "Successfully installed pyaudio-0.2.14\n"
     ]
    }
   ],
   "source": [
    "!pip install pyaudio"
   ]
  },
  {
   "cell_type": "code",
   "execution_count": 3,
   "id": "d332cd0f",
   "metadata": {},
   "outputs": [
    {
     "name": "stdout",
     "output_type": "stream",
     "text": [
      "Collecting pyttsx3\n",
      "  Downloading pyttsx3-2.90-py3-none-any.whl (39 kB)\n",
      "Requirement already satisfied: pywin32 in c:\\users\\saranya\\anaconda3\\lib\\site-packages (from pyttsx3) (302)\n",
      "Collecting pypiwin32\n",
      "  Downloading pypiwin32-223-py3-none-any.whl (1.7 kB)\n",
      "Requirement already satisfied: comtypes in c:\\users\\saranya\\anaconda3\\lib\\site-packages (from pyttsx3) (1.1.10)\n",
      "Installing collected packages: pypiwin32, pyttsx3\n",
      "Successfully installed pypiwin32-223 pyttsx3-2.90\n",
      "Note: you may need to restart the kernel to use updated packages.\n"
     ]
    }
   ],
   "source": [
    "pip install pyttsx3"
   ]
  },
  {
   "cell_type": "code",
   "execution_count": 5,
   "id": "6dc4cc21",
   "metadata": {},
   "outputs": [
    {
     "name": "stdout",
     "output_type": "stream",
     "text": [
      "Collecting speechRecognition\n",
      "  Downloading SpeechRecognition-3.10.3-py2.py3-none-any.whl (32.8 MB)\n",
      "Requirement already satisfied: requests>=2.26.0 in c:\\users\\saranya\\anaconda3\\lib\\site-packages (from speechRecognition) (2.31.0)\n",
      "Requirement already satisfied: typing-extensions in c:\\users\\saranya\\anaconda3\\lib\\site-packages (from speechRecognition) (4.1.1)\n",
      "Requirement already satisfied: idna<4,>=2.5 in c:\\users\\saranya\\anaconda3\\lib\\site-packages (from requests>=2.26.0->speechRecognition) (3.3)\n",
      "Requirement already satisfied: certifi>=2017.4.17 in c:\\users\\saranya\\anaconda3\\lib\\site-packages (from requests>=2.26.0->speechRecognition) (2022.12.7)\n",
      "Requirement already satisfied: charset-normalizer<4,>=2 in c:\\users\\saranya\\anaconda3\\lib\\site-packages (from requests>=2.26.0->speechRecognition) (2.0.4)\n",
      "Requirement already satisfied: urllib3<3,>=1.21.1 in c:\\users\\saranya\\anaconda3\\lib\\site-packages (from requests>=2.26.0->speechRecognition) (2.2.1)\n",
      "Installing collected packages: speechRecognition\n",
      "Successfully installed speechRecognition-3.10.3\n",
      "Note: you may need to restart the kernel to use updated packages.\n"
     ]
    }
   ],
   "source": [
    "pip install speechRecognition"
   ]
  },
  {
   "cell_type": "code",
   "execution_count": 7,
   "id": "12bb45d8",
   "metadata": {},
   "outputs": [
    {
     "name": "stdout",
     "output_type": "stream",
     "text": [
      "Collecting wikipedia\n",
      "  Downloading wikipedia-1.4.0.tar.gz (27 kB)\n",
      "Requirement already satisfied: beautifulsoup4 in c:\\users\\saranya\\anaconda3\\lib\\site-packages (from wikipedia) (4.11.1)\n",
      "Requirement already satisfied: requests<3.0.0,>=2.0.0 in c:\\users\\saranya\\anaconda3\\lib\\site-packages (from wikipedia) (2.31.0)\n",
      "Requirement already satisfied: urllib3<3,>=1.21.1 in c:\\users\\saranya\\anaconda3\\lib\\site-packages (from requests<3.0.0,>=2.0.0->wikipedia) (2.2.1)\n",
      "Requirement already satisfied: charset-normalizer<4,>=2 in c:\\users\\saranya\\anaconda3\\lib\\site-packages (from requests<3.0.0,>=2.0.0->wikipedia) (2.0.4)\n",
      "Requirement already satisfied: certifi>=2017.4.17 in c:\\users\\saranya\\anaconda3\\lib\\site-packages (from requests<3.0.0,>=2.0.0->wikipedia) (2022.12.7)\n",
      "Requirement already satisfied: idna<4,>=2.5 in c:\\users\\saranya\\anaconda3\\lib\\site-packages (from requests<3.0.0,>=2.0.0->wikipedia) (3.3)\n",
      "Requirement already satisfied: soupsieve>1.2 in c:\\users\\saranya\\anaconda3\\lib\\site-packages (from beautifulsoup4->wikipedia) (2.3.1)\n",
      "Building wheels for collected packages: wikipedia\n",
      "  Building wheel for wikipedia (setup.py): started\n",
      "  Building wheel for wikipedia (setup.py): finished with status 'done'\n",
      "  Created wheel for wikipedia: filename=wikipedia-1.4.0-py3-none-any.whl size=11695 sha256=19ec369d1f8077d400ea857994721549149fc8f2331e175cda31c9a2d0640237\n",
      "  Stored in directory: c:\\users\\saranya\\appdata\\local\\pip\\cache\\wheels\\c2\\46\\f4\\caa1bee71096d7b0cdca2f2a2af45cacf35c5760bee8f00948\n",
      "Successfully built wikipedia\n",
      "Installing collected packages: wikipedia\n",
      "Successfully installed wikipedia-1.4.0\n",
      "Note: you may need to restart the kernel to use updated packages.\n"
     ]
    }
   ],
   "source": [
    "pip install wikipedia"
   ]
  },
  {
   "cell_type": "code",
   "execution_count": 1,
   "id": "38fe60e3",
   "metadata": {},
   "outputs": [],
   "source": [
    "import pyttsx3\n",
    "import speech_recognition as sr\n",
    "import datetime\n",
    "import wikipedia\n",
    "import webbrowser\n",
    "import os\n",
    "import comtypes.client"
   ]
  },
  {
   "cell_type": "code",
   "execution_count": 2,
   "id": "2611e3b0",
   "metadata": {},
   "outputs": [],
   "source": [
    "engine = pyttsx3.init('sapi5')\n",
    "voices=engine.getProperty('voices')\n",
    "engine.setProperty('voice',voices[0].id)"
   ]
  },
  {
   "cell_type": "code",
   "execution_count": 3,
   "id": "c3737f28",
   "metadata": {},
   "outputs": [],
   "source": [
    "def speak(audio):\n",
    "    engine.say(audio)\n",
    "    engine.runAndWait()"
   ]
  },
  {
   "cell_type": "code",
   "execution_count": 4,
   "id": "e9c7ebba",
   "metadata": {},
   "outputs": [],
   "source": [
    "import datetime\n",
    "\n",
    "def wishMe():\n",
    "    hour = datetime.datetime.now().hour\n",
    "    if 0 <= hour < 12:\n",
    "        speak(\"Good Morning\")\n",
    "    elif 12 <= hour < 18:\n",
    "        speak(\"Good Afternoon\")\n",
    "    else:\n",
    "        speak(\"Good Evening\")\n",
    "    speak(\"I'm Jarvis, I'm here to help you\")\n"
   ]
  },
  {
   "cell_type": "code",
   "execution_count": 5,
   "id": "84774da3",
   "metadata": {},
   "outputs": [],
   "source": [
    "def takeCommand():\n",
    "    r=sr.Recognizer()\n",
    "    with sr.Microphone() as source:\n",
    "        print(\"Listening...\")\n",
    "        r.pause_threshold=1\n",
    "        audio=r.listen(source)\n",
    "        \n",
    "    try:\n",
    "        print(\"Recognizing...\")\n",
    "        query=r.recognize_google(audio,language='en-in')\n",
    "        print(f\"User said: {query}\\n\")\n",
    "    \n",
    "    \n",
    "    except Exception as e:\n",
    "        print(\"Say again please..\")\n",
    "        return \"None\"\n",
    "    return query"
   ]
  },
  {
   "cell_type": "code",
   "execution_count": null,
   "id": "893c4fdb",
   "metadata": {},
   "outputs": [
    {
     "name": "stdout",
     "output_type": "stream",
     "text": [
      "Listening...\n",
      "Recognizing...\n",
      "User said: open Google\n",
      "\n",
      "Listening...\n",
      "Recognizing...\n",
      "Say again please..\n",
      "Listening...\n",
      "Recognizing...\n",
      "User said: what is the time\n",
      "\n",
      "Listening...\n",
      "Recognizing...\n",
      "Say again please..\n",
      "Listening...\n",
      "Recognizing...\n",
      "User said: play music\n",
      "\n",
      "['Per Vachaalum Vaikkaama.mp3']\n",
      "Listening...\n",
      "Recognizing...\n",
      "Say again please..\n",
      "Listening...\n",
      "Recognizing...\n",
      "Say again please..\n",
      "Listening...\n",
      "Recognizing...\n",
      "User said: open Google\n",
      "\n",
      "Listening...\n",
      "Recognizing...\n",
      "Say again please..\n",
      "Listening...\n",
      "Recognizing...\n",
      "Say again please..\n",
      "Listening...\n",
      "Recognizing...\n",
      "User said: play music play music\n",
      "\n",
      "['Per Vachaalum Vaikkaama.mp3']\n",
      "Listening...\n",
      "Recognizing...\n",
      "Say again please..\n",
      "Listening...\n"
     ]
    }
   ],
   "source": [
    "if __name__== \"__main__\":\n",
    "    wishMe()\n",
    "    while True:\n",
    "        query=takeCommand().lower()\n",
    "        if 'wikipedia' in query:\n",
    "            speak('Searching Wikipedia....')\n",
    "            query=query.replace(\"wikipedia\",\"\")\n",
    "            results=wikipedia.summary(query,sentences=2)\n",
    "            speak(\"According to Wikipedia\")\n",
    "            print(results)\n",
    "            speak(results)\n",
    "        elif 'open youtube' in query:\n",
    "            webbrowser.open(\"youtube.com\")\n",
    "        elif 'open google' in query:\n",
    "            webbrowser.open(\"google.com\")\n",
    "        elif 'play music' in query:\n",
    "            music_dir=\"C:\\\\Users\\\\Saranya\\\\Downloads\\\\songs\"\n",
    "            songs=os.listdir(music_dir)\n",
    "            print(songs)\n",
    "            os.startfile(os.path.join(music_dir,songs[0]))\n",
    "        elif 'what is the time' in query:\n",
    "            strTime=datetime.datetime.now().strftime('%H:%M')\n",
    "            speak(f\"The time is {strTime}\")\n"
   ]
  }
 ],
 "metadata": {
  "kernelspec": {
   "display_name": "Python 3 (ipykernel)",
   "language": "python",
   "name": "python3"
  },
  "language_info": {
   "codemirror_mode": {
    "name": "ipython",
    "version": 3
   },
   "file_extension": ".py",
   "mimetype": "text/x-python",
   "name": "python",
   "nbconvert_exporter": "python",
   "pygments_lexer": "ipython3",
   "version": "3.9.12"
  }
 },
 "nbformat": 4,
 "nbformat_minor": 5
}
